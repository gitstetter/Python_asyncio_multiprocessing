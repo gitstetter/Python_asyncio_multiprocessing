{
 "cells": [
  {
   "attachments": {},
   "cell_type": "markdown",
   "metadata": {},
   "source": [
    "Getting the relevant data to code basis can be the bottleneck, as opposed to the actual code itself.\n",
    "\n",
    "When this is the case, the program is calles I/O bound -> the speed is bounded by the efficiency of the input/output\n",
    "\n",
    "Every time code reads from a file or writes to a network socket, it must pause to contact the kernel, request that the actual read happens, and then wait for it to complete.\n",
    "\n",
    "This is because it's not the program but the kernel that does the actual read operation, as the kernel is responsible for managing any interaction with the hardware.\n",
    "\n"
   ]
  },
  {
   "cell_type": "markdown",
   "metadata": {},
   "source": [
    "Most I/O operations on devices are multiple times slower than the CPU. So even if the communication with the kernel is fast, most time is spent for the kernel to get the result from the device and send it back to the program.\n",
    "\n",
    "During this time the propram is halted, until it gets a signal that the write operation has completed. Time spent in a paused state is called I/O wait"
   ]
  },
  {
   "attachments": {},
   "cell_type": "markdown",
   "metadata": {},
   "source": [
    "Asynchronous I/O helps to utilize this waiting time by allowing  to perform other operations while the program is in I/O state:\n",
    "\n",
    "![](./pics/IMG_6462.jpg)\n",
    "\n",
    "\n",
    "This is possible because while a program is in I/O wait, the kernel is simply waiting for the device requested to read from to send a signal that the requested data is ready.\n",
    "\n",
    "\n",
    "Instead of waiting, we can create a mechanism (event loop) so that we can dispatch requests of data, continue performing compute operations, and be notified when the data is ready to be read."
   ]
  },
  {
   "cell_type": "markdown",
   "metadata": {},
   "source": [
    "### Important: this is all still happening an a single thread and still uses one CPU at a time\n",
    "\n",
    "In contrast to multiprocessing/multithreading, where a new process is launched that does experience I/O wait but uses multitasking nature of modern CPUs to allow the main process to continue.\n",
    "\n",
    "These two mechanisms are often used in tandem: multiple processes are launched, each is efficient at asynchronous I/O.\n"
   ]
  },
  {
   "attachments": {},
   "cell_type": "markdown",
   "metadata": {},
   "source": [
    "When a programm enters I/O wait, the execution is paused so that the kernel can perform low-level operations associated with I/O request (context switch), and it is not resumed until I/O operation is completed.\n",
    "\n",
    "Context switch is a heavy operation as it requires to save the state of the program and give up the use of the CPU.\n",
    "\n",
    "Later the program needs to be reinitialized and resumed.\n",
    "\n",
    "With concurrency a event loop is running that manages what gets to run in the program and when.\n",
    "\n",
    "*Event loop = list of functions that need to be run*\n",
    "\n",
    "\n",
    "\n"
   ]
  },
  {
   "cell_type": "code",
   "execution_count": 9,
   "metadata": {},
   "outputs": [
    {
     "name": "stdout",
     "output_type": "stream",
     "text": [
      "Hello\n",
      "world\n",
      "Hello\n",
      "world\n"
     ]
    }
   ],
   "source": [
    "from queue import Queue\n",
    "from functools import partial\n",
    "from time import sleep\n",
    "\n",
    "eventloop = None\n",
    "\n",
    "class EventLoop(Queue):\n",
    "    def start(self):\n",
    "        for i in range(4):\n",
    "            function = self.get()\n",
    "            function()\n",
    "\n",
    "def do_hello():\n",
    "    global eventloop\n",
    "    print(\"Hello\")\n",
    "    sleep(1)\n",
    "    eventloop.put(do_world)\n",
    "\n",
    "def do_world():\n",
    "    global eventloop\n",
    "    print(\"world\")\n",
    "    sleep(1)\n",
    "    eventloop.put(do_hello)\n",
    "\n",
    "eventloop = EventLoop()\n",
    "eventloop.put(do_hello)\n",
    "eventloop.start()"
   ]
  },
  {
   "cell_type": "markdown",
   "metadata": {},
   "source": [
    "The eventloop.put(do_world) approximates an asynchronous call to the do_world function.\n",
    "\n",
    "This operation is called **nonblocking**  -> it will return immediately but guarantee that do_world is called at some point later.\n"
   ]
  },
  {
   "attachments": {},
   "cell_type": "markdown",
   "metadata": {},
   "source": [
    "## How does async/await work?\n",
    "\n",
    "An async function (assigned with *async def*) is called coroutine and is comparable to a generator.\n",
    "\n",
    "An await statement is similar in function to a yield statement: the execution of the current function gets paused while other code is run.\n",
    "\n",
    "Once the await / yield resolves with data, the function is resumed. \n"
   ]
  },
  {
   "attachments": {},
   "cell_type": "markdown",
   "metadata": {},
   "source": [
    "https://testdriven.io/blog/concurrency-parallelism-asyncio/#asyncio"
   ]
  },
  {
   "cell_type": "code",
   "execution_count": 4,
   "metadata": {},
   "outputs": [
    {
     "ename": "RuntimeError",
     "evalue": "asyncio.run() cannot be called from a running event loop",
     "output_type": "error",
     "traceback": [
      "\u001b[0;31m---------------------------------------------------------------------------\u001b[0m",
      "\u001b[0;31mRuntimeError\u001b[0m                              Traceback (most recent call last)",
      "\u001b[0;32m/var/folders/q7/q8k9s_l13zv_62cgpwqt3yxm0000gn/T/ipykernel_3141/1850631820.py\u001b[0m in \u001b[0;36m<module>\u001b[0;34m\u001b[0m\n\u001b[1;32m     43\u001b[0m         \u001b[0masyncio\u001b[0m\u001b[0;34m.\u001b[0m\u001b[0mset_event_loop_policy\u001b[0m\u001b[0;34m(\u001b[0m\u001b[0masyncio\u001b[0m\u001b[0;34m.\u001b[0m\u001b[0mWindowsSelectorEventLoopPolicy\u001b[0m\u001b[0;34m(\u001b[0m\u001b[0;34m)\u001b[0m\u001b[0;34m)\u001b[0m\u001b[0;34m\u001b[0m\u001b[0;34m\u001b[0m\u001b[0m\n\u001b[1;32m     44\u001b[0m \u001b[0;34m\u001b[0m\u001b[0m\n\u001b[0;32m---> 45\u001b[0;31m     \u001b[0masyncio\u001b[0m\u001b[0;34m.\u001b[0m\u001b[0mrun\u001b[0m\u001b[0;34m(\u001b[0m\u001b[0mmain\u001b[0m\u001b[0;34m(\u001b[0m\u001b[0;34m)\u001b[0m\u001b[0;34m)\u001b[0m\u001b[0;34m\u001b[0m\u001b[0;34m\u001b[0m\u001b[0m\n\u001b[0m",
      "\u001b[0;32m~/opt/anaconda3/envs/py39/lib/python3.9/asyncio/runners.py\u001b[0m in \u001b[0;36mrun\u001b[0;34m(main, debug)\u001b[0m\n\u001b[1;32m     31\u001b[0m     \"\"\"\n\u001b[1;32m     32\u001b[0m     \u001b[0;32mif\u001b[0m \u001b[0mevents\u001b[0m\u001b[0;34m.\u001b[0m\u001b[0m_get_running_loop\u001b[0m\u001b[0;34m(\u001b[0m\u001b[0;34m)\u001b[0m \u001b[0;32mis\u001b[0m \u001b[0;32mnot\u001b[0m \u001b[0;32mNone\u001b[0m\u001b[0;34m:\u001b[0m\u001b[0;34m\u001b[0m\u001b[0;34m\u001b[0m\u001b[0m\n\u001b[0;32m---> 33\u001b[0;31m         raise RuntimeError(\n\u001b[0m\u001b[1;32m     34\u001b[0m             \"asyncio.run() cannot be called from a running event loop\")\n\u001b[1;32m     35\u001b[0m \u001b[0;34m\u001b[0m\u001b[0m\n",
      "\u001b[0;31mRuntimeError\u001b[0m: asyncio.run() cannot be called from a running event loop"
     ]
    }
   ],
   "source": [
    "\n"
   ]
  }
 ],
 "metadata": {
  "kernelspec": {
   "display_name": "Python 3.9.7 ('py39')",
   "language": "python",
   "name": "python3"
  },
  "language_info": {
   "codemirror_mode": {
    "name": "ipython",
    "version": 3
   },
   "file_extension": ".py",
   "mimetype": "text/x-python",
   "name": "python",
   "nbconvert_exporter": "python",
   "pygments_lexer": "ipython3",
   "version": "3.9.7 (default, Sep 16 2021, 08:50:36) \n[Clang 10.0.0 ]"
  },
  "orig_nbformat": 4,
  "vscode": {
   "interpreter": {
    "hash": "7baa7dfc784b53c35741efd030a93ab8ffd7dc95878d4ff67192074702ba81a8"
   }
  }
 },
 "nbformat": 4,
 "nbformat_minor": 2
}
