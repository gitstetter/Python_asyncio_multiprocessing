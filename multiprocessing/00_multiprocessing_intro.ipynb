{
 "cells": [
  {
   "attachments": {},
   "cell_type": "markdown",
   "metadata": {},
   "source": [
    "## Overview\n",
    "\n",
    "CPython -common implementation we all use-  does not use multiple CPUs by default.\n",
    "\n",
    "Expect *±n-times* speed-up of execution time with *n cores*.\n",
    "\n",
    "Each additional process will increase communication overhead and decrease available RAM up to a significant overall slowdown.\n",
    "\n",
    "Amdahls law: *If only a small part of your code can be parallelized, it doesn't matter how many CPUs you use - it won't run much faster after all*\n",
    "\n",
    "If each process needs to communicate with every other Python process, the communication overhead will slowly overwhelm the processing and slow things down.\n",
    "\n",
    "As more and more processes are added, overalle performance can be slowed down.\n",
    "\n",
    "Typlical jobs for multiprocessing module:\n",
    "* Parallelize a CPU-bound task with Process or Pool bjects\n",
    "* Parallelize a IO-bound task in a Pool with threads (dummy module)\n",
    "* Share pickled work via a Queue\n",
    "* Share state between parallelized workers (bytes, primitive datatypes, dicts, lists)\n",
    "\n",
    "Threads in Python are bound by the GIL (Global Interpreter Lock), so only one thread may interact with Python projects at a time.\n",
    "\n",
    "By using processes, we run a number of Python interpreters in parallel - each with a private memory space with its own GIL -and each running in series -> no competition for each GIL."
   ]
  },
  {
   "attachments": {},
   "cell_type": "markdown",
   "metadata": {},
   "source": [
    "## Multiprocessing module\n",
    "\n",
    "Main components:\n",
    "* **Process**: \n",
    "forked copy of current process (new pid - independent child process in operating system - provide it with target method to run)\n",
    "* **Pool**:\n",
    "wraps the process/threading - Thread API into a convenient pool of workers that share chunk of work und return aggregated result\n",
    "* **Queue**:\n",
    "FIFO queue allowing multiple producers and consumers\n",
    "* **Pipe**:\n",
    "Uni-/bidirectional communication cannel between two processes\n",
    "* **Manager**:\n",
    "High level managed interface to share Python objects between processes\n",
    "* **ctypes**:\n",
    "Allows sharing of primitive datatypes (ints flaots, bytes) between processes after they have forked\n"
   ]
  },
  {
   "cell_type": "code",
   "execution_count": null,
   "metadata": {},
   "outputs": [],
   "source": []
  },
  {
   "attachments": {},
   "cell_type": "markdown",
   "metadata": {},
   "source": [
    "\n"
   ]
  },
  {
   "cell_type": "markdown",
   "metadata": {},
   "source": []
  },
  {
   "attachments": {},
   "cell_type": "markdown",
   "metadata": {},
   "source": [
    "\n",
    "\n"
   ]
  },
  {
   "cell_type": "markdown",
   "metadata": {},
   "source": []
  },
  {
   "attachments": {},
   "cell_type": "markdown",
   "metadata": {},
   "source": [
    "\n"
   ]
  },
  {
   "cell_type": "markdown",
   "metadata": {},
   "source": []
  },
  {
   "cell_type": "markdown",
   "metadata": {},
   "source": []
  }
 ],
 "metadata": {
  "kernelspec": {
   "display_name": "py39",
   "language": "python",
   "name": "python3"
  },
  "language_info": {
   "codemirror_mode": {
    "name": "ipython",
    "version": 3
   },
   "file_extension": ".py",
   "mimetype": "text/x-python",
   "name": "python",
   "nbconvert_exporter": "python",
   "pygments_lexer": "ipython3",
   "version": "3.9.7"
  },
  "orig_nbformat": 4,
  "vscode": {
   "interpreter": {
    "hash": "7baa7dfc784b53c35741efd030a93ab8ffd7dc95878d4ff67192074702ba81a8"
   }
  }
 },
 "nbformat": 4,
 "nbformat_minor": 2
}
